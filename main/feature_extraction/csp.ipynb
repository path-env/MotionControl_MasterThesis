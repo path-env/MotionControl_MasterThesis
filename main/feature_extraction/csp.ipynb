{
 "cells": [
  {
   "cell_type": "markdown",
   "metadata": {},
   "source": [
    "## CSP Type:\n",
    "1, CSSP: Common Spatial Spectral Pattern\n",
    "\n",
    "2, SWCSP: Spectrally Weighted Common Spatial Patterns\n",
    "\n",
    "3, ISSPL: Iterative Spatio Spectral Patterns Learning\n",
    "\n",
    "4, FBCSP: Filter Bank Common Spatial Patterns\n",
    "\n",
    "5, SCSSP: Seperable Common Spatio-spectral patterns\n"
   ]
  },
  {
   "cell_type": "code",
   "execution_count": null,
   "metadata": {},
   "outputs": [],
   "source": [
    "%matplotlib tk \n",
    "import mne\n",
    "from mne.decoding import CSP\n",
    "from mne.preprocessing import ICA\n",
    "from sklearn.discriminant_analysis import LinearDiscriminantAnalysis as LDA\n",
    "from sklearn.model_selection import ShuffleSplit\n",
    "from sklearn.pipeline import Pipeline\n",
    "from sklearn.model_selection import cross_val_score"
   ]
  },
  {
   "cell_type": "code",
   "execution_count": null,
   "metadata": {},
   "outputs": [],
   "source": [
    "plot_enable =1"
   ]
  },
  {
   "cell_type": "code",
   "execution_count": 41,
   "metadata": {},
   "outputs": [
    {
     "name": "stdout",
     "output_type": "stream",
     "text": [
      "Reading ../preproc/Physionet_raw_epo.fif ...\n",
      "    Found the data of interest:\n",
      "        t =    -200.00 ...     500.00 ms\n",
      "        0 CTF compensation matrices available\n",
      "Not setting metadata\n",
      "Not setting metadata\n",
      "29 matching events found\n",
      "No baseline correction applied\n",
      "0 projection items activated\n",
      "Applying baseline correction (mode: mean)\n"
     ]
    }
   ],
   "source": [
    "epoch_file = '../preproc/Physionet_raw_epo.fif'\n",
    "epochs = mne.read_epochs(epoch_file)\n",
    "epochs = epochs.apply_baseline()"
   ]
  },
  {
   "cell_type": "code",
   "execution_count": 42,
   "metadata": {},
   "outputs": [
    {
     "name": "stdout",
     "output_type": "stream",
     "text": [
      "Dropped 8 epochs: 1, 7, 9, 15, 19, 21, 27, 28\n"
     ]
    },
    {
     "data": {
      "text/plain": [
       "(<EpochsFIF |  21 events (all good), -0.2 - 0.5 sec, baseline -0.2 – 0 sec, ~560 kB, data loaded,\n",
       "  'T0': 7\n",
       "  'T1': 7\n",
       "  'T2': 7>,\n",
       " array([ 1,  7,  9, 15, 19, 21, 27, 28]))"
      ]
     },
     "execution_count": 42,
     "metadata": {},
     "output_type": "execute_result"
    }
   ],
   "source": [
    "epochs.equalize_event_counts()"
   ]
  },
  {
   "cell_type": "code",
   "execution_count": 43,
   "metadata": {},
   "outputs": [],
   "source": [
    "# Evoked data\n",
    "T0 = epochs['T0'].average() # Shape = chan x timepnts\n",
    "T1 = epochs['T1'].average()\n",
    "T2 = epochs['T2'].average()"
   ]
  },
  {
   "cell_type": "code",
   "execution_count": 37,
   "metadata": {},
   "outputs": [
    {
     "name": "stdout",
     "output_type": "stream",
     "text": [
      "No projector specified for this dataset. Please consider the method self.add_proj.\n"
     ]
    }
   ],
   "source": [
    "## Task  Analysis\n",
    "if plot_enable==1:\n",
    "    task = T0\n",
    "    title = str(task)[11:11+2] +' - '+ epoch_file.split('/')[-1]\n",
    "    # task.plot_topomap();\n",
    "    # task.plot_white(); # Noise cov required\n",
    "    # task.plot_field(); # requires  surf maps\n",
    "    # task.plot_sensors();\n",
    "    task.plot_topo();\n",
    "    task.plot_joint(times=[0.0, 0.2, 0.3]);#,picks=['C4','C2','C6','C1','C3','C5']);\n",
    "    task.plot_image(titles=f'{title} Image',show_names='all');\n",
    "    # task.plot(proj= True, titles = '{task} - Projs - True',spatial_colors=True);\n",
    "    # task.plot(proj= False, titles = '{task} -  Projs - False',spatial_colors=True);\n",
    "    # task.plot(proj= 'reconstruct', titles = '{task} -  Projs - reconstruct',spatial_colors=True);\n",
    "    # task.plot_topomap();\n",
    "    # task.plot(gfp= \"only\"); # population standard deviation of the signal across channels\n",
    "    ## Compare regions\n",
    "    # mne.channels.combine_channels({task}, roi_dict, method='mean')\n",
    "    ## Compare conditions\n",
    "    # evoked = dict(T1 = list(epochs[title].iter_evoked()), T2 = list(epochs['T2'].iter_evoked()), T0=list(epochs['T0'].iter_evoked()))\n",
    "    # mne.viz.plot_compare_evokeds(evoked, combine='mean');\n",
    "    # task_t0 = mne.combine_evoked([task, T0], weights=[1,-1])\n",
    "    # task_t0.plot_joint();"
   ]
  },
  {
   "cell_type": "code",
   "execution_count": null,
   "metadata": {},
   "outputs": [],
   "source": []
  }
 ],
 "metadata": {
  "interpreter": {
   "hash": "31f2aee4e71d21fbe5cf8b01ff0e069b9275f58929596ceb00d14d90e3e16cd6"
  },
  "kernelspec": {
   "display_name": "Python 3.8.10 64-bit",
   "language": "python",
   "name": "python3"
  },
  "language_info": {
   "codemirror_mode": {
    "name": "ipython",
    "version": 3
   },
   "file_extension": ".py",
   "mimetype": "text/x-python",
   "name": "python",
   "nbconvert_exporter": "python",
   "pygments_lexer": "ipython3",
   "version": "3.8.10"
  },
  "orig_nbformat": 4
 },
 "nbformat": 4,
 "nbformat_minor": 2
}
