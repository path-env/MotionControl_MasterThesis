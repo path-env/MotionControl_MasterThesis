{
 "cells": [
  {
   "cell_type": "code",
   "execution_count": null,
   "metadata": {},
   "outputs": [],
   "source": [
    "import mne\n",
    "\n",
    "# Local Imports\n",
    "from extraction.physionet_MI import extract\n",
    "from preproc import spectral_filt, ica, projectors\n",
    "\n",
    "from data import brain_atlas  as bm"
   ]
  },
  {
   "cell_type": "code",
   "execution_count": null,
   "metadata": {},
   "outputs": [],
   "source": []
  },
  {
   "cell_type": "markdown",
   "metadata": {},
   "source": [
    "### Extraction"
   ]
  },
  {
   "cell_type": "code",
   "execution_count": null,
   "metadata": {},
   "outputs": [],
   "source": [
    "raw = extract()\n",
    "\n",
    "# Parameters to task\n",
    "pick_ch = bm.C_Channels  # Considering only the channels that map to topo map functionality\n",
    "\n",
    "# Channel names to Indices\n",
    "ch_names = raw.ch_names\n",
    "pick_ch_idx = [ch_names.index(i) for i in pick_ch]\n",
    "\n",
    "# Duplicate params\n",
    "scale = dict(mag=1e-12, grad=4e-11, eeg=100e-6)\n",
    "mne_plot_raw = dict(scalings=scale, clipping='transparent', order=pick_ch_idx)"
   ]
  },
  {
   "cell_type": "markdown",
   "metadata": {},
   "source": [
    "### Preprocessing"
   ]
  },
  {
   "cell_type": "markdown",
   "metadata": {},
   "source": [
    "#### Remove Line noise and apply band pass"
   ]
  },
  {
   "cell_type": "code",
   "execution_count": null,
   "metadata": {},
   "outputs": [],
   "source": [
    "\n",
    "\n"
   ]
  },
  {
   "cell_type": "code",
   "execution_count": null,
   "metadata": {},
   "outputs": [],
   "source": []
  }
 ],
 "metadata": {
  "language_info": {
   "name": "python"
  },
  "orig_nbformat": 4
 },
 "nbformat": 4,
 "nbformat_minor": 2
}
