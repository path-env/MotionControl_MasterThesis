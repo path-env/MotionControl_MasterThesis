{
 "cells": [
  {
   "cell_type": "code",
   "execution_count": 10,
   "metadata": {},
   "outputs": [],
   "source": [
    "%matplotlib tk\n",
    "import mne\n",
    "import numpy as np"
   ]
  },
  {
   "cell_type": "markdown",
   "metadata": {},
   "source": [
    "### Extraction"
   ]
  },
  {
   "cell_type": "code",
   "execution_count": 8,
   "metadata": {},
   "outputs": [
    {
     "name": "stdout",
     "output_type": "stream",
     "text": [
      "Extracting EDF parameters from /media/mangaldeep/HDD3/DataSets/BCI_Competition/BCI_3a/BCI3_3a1.gdf...\n",
      "GDF file detected\n",
      "Setting channel info structure...\n",
      "Creating raw.info structure...\n"
     ]
    }
   ],
   "source": [
    "datapath = '/media/mangaldeep/HDD3/DataSets/BCI_Competition/BCI_3a/'\n",
    "filenames = ['BCI3_3a1.gdf','BCI3_3a2.gdf', 'BCI3_3a3.gdf']\n",
    "# raws = [mne.io.read_raw_gdf(datapath+name) for name in filenames]\n",
    "# raw = mne.concatenate_raws(raws)\n",
    "raw = mne.io.read_raw_gdf(datapath+filenames[0])"
   ]
  },
  {
   "cell_type": "markdown",
   "metadata": {},
   "source": [
    "### Remove Artifacts\n",
    "##### Multiscale Principal Component Analysis"
   ]
  },
  {
   "cell_type": "code",
   "execution_count": 11,
   "metadata": {},
   "outputs": [
    {
     "name": "stdout",
     "output_type": "stream",
     "text": [
      "Channels marked as bad: none\n"
     ]
    }
   ],
   "source": [
    "raw.plot();"
   ]
  },
  {
   "cell_type": "code",
   "execution_count": null,
   "metadata": {},
   "outputs": [],
   "source": [
    "def SDI(x):\n",
    "    y=x\n",
    "    N=len(x)\n",
    "    x=abs(x) \n",
    "    L=10 \n",
    "    for k in range(L-1):    \n",
    "        j=0\n",
    "        for i in range(0,len(x)-1,2):\n",
    "            j=j+1;    \n",
    "            x[j]=(x[i]+x[i+1])/2     \n",
    "            y[j]=(y[i]-y[i+1])/2\n",
    "        x=x[1:round(len(x)/2)]\n",
    "        y=y[1:round(len(y)/2)]     \n",
    "    a=x\n",
    "    s=y\n",
    "    aa=(a+s)/2\n",
    "    ss=(a-s)/2\n",
    "    decomp=math.log10((N/L)*(a*aa-ss*s))\n",
    "    return decomp"
   ]
  }
 ],
 "metadata": {
  "kernelspec": {
   "display_name": "Python 3.8.10 64-bit",
   "language": "python",
   "name": "python3"
  },
  "language_info": {
   "codemirror_mode": {
    "name": "ipython",
    "version": 3
   },
   "file_extension": ".py",
   "mimetype": "text/x-python",
   "name": "python",
   "nbconvert_exporter": "python",
   "pygments_lexer": "ipython3",
   "version": "3.8.10"
  },
  "orig_nbformat": 4,
  "vscode": {
   "interpreter": {
    "hash": "31f2aee4e71d21fbe5cf8b01ff0e069b9275f58929596ceb00d14d90e3e16cd6"
   }
  }
 },
 "nbformat": 4,
 "nbformat_minor": 2
}
