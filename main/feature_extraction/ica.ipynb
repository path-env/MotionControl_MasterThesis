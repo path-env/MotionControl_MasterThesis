{
 "cells": [
  {
   "cell_type": "code",
   "execution_count": null,
   "metadata": {},
   "outputs": [],
   "source": [
    "import mne\n",
    "import numpy as np"
   ]
  },
  {
   "cell_type": "code",
   "execution_count": null,
   "metadata": {},
   "outputs": [],
   "source": [
    "source = ica.get_sources(rawfltrd_ica) # Estimate source(Noise) given the unmixing\n",
    "print(source.get_data().shape)\n",
    "print(ica.get_components().shape)\n",
    "print(ica.unmixing_matrix_.shape)\n",
    "print(rawfltrd_ica.get_data().shape)"
   ]
  }
 ],
 "metadata": {
  "language_info": {
   "name": "python"
  },
  "orig_nbformat": 4
 },
 "nbformat": 4,
 "nbformat_minor": 2
}
