{
 "cells": [
  {
   "cell_type": "code",
   "execution_count": 1,
   "metadata": {},
   "outputs": [],
   "source": [
    "%matplotlib tk \n",
    "import mne\n",
    "import numpy as np\n",
    "import matplotlib.pyplot as plt\n",
    "from kymatio.sklearn import Scattering2D\n",
    "from kymatio.scattering2d.utils import fft2\n",
    "from colorsys import hls_to_rgb"
   ]
  },
  {
   "cell_type": "code",
   "execution_count": 2,
   "metadata": {},
   "outputs": [
    {
     "name": "stdout",
     "output_type": "stream",
     "text": [
      "Reading ../preproc/Physionet_raw_epo.fif ...\n",
      "    Found the data of interest:\n",
      "        t =   -2000.00 ...    4000.00 ms\n",
      "        0 CTF compensation matrices available\n",
      "Not setting metadata\n",
      "Not setting metadata\n",
      "90 matching events found\n",
      "No baseline correction applied\n",
      "0 projection items activated\n",
      "Applying baseline correction (mode: mean)\n",
      "Dropped 2 epochs: 72, 85\n"
     ]
    },
    {
     "data": {
      "text/plain": [
       "(<EpochsFIF |  88 events (all good), -2 - 4 sec, baseline -2 – 0 sec, ~17.5 MB, data loaded,\n",
       "  'T1': 44\n",
       "  'T2': 44>,\n",
       " array([72, 85]))"
      ]
     },
     "execution_count": 2,
     "metadata": {},
     "output_type": "execute_result"
    }
   ],
   "source": [
    "epoch_file = '../preproc/Physionet_raw_epo.fif'\n",
    "epochs = mne.read_epochs(epoch_file)\n",
    "epochs = epochs.apply_baseline()\n",
    "epochs.equalize_event_counts()"
   ]
  },
  {
   "cell_type": "code",
   "execution_count": 43,
   "metadata": {},
   "outputs": [
    {
     "name": "stdout",
     "output_type": "stream",
     "text": [
      "Data Size: (88, 27, 961)\n",
      "Train Size: (88, 27, 401)\n"
     ]
    }
   ],
   "source": [
    "tmin, tmax = -0.5, 2\n",
    "epochs_data = epochs.get_data()\n",
    "# labels = epochs.events[epochs.events[:,-1]!=3]\n",
    "labels = epochs.events[:,-1]\n",
    "labels = labels-2\n",
    "# labels = epochs.events[:,-1]-2\n",
    "print(f\"Data Size: {epochs_data.shape}\")\n",
    "\n",
    "# train data \n",
    "epochs_train = epochs.copy().crop(tmin= tmin, tmax=tmax)\n",
    "epochs_train_data = epochs_train.get_data()\n",
    "# epochs_train_data = np.transpose(epochs_train_data, axes = (1, 2, 0)) # Sklearn data = n_sam * n_freq\n",
    "print(f\"Train Size: {epochs_train_data.shape}\")"
   ]
  },
  {
   "cell_type": "code",
   "execution_count": 44,
   "metadata": {},
   "outputs": [],
   "source": [
    "M,N = epochs_train_data.shape[1:]\n",
    "J,L = 3,8\n",
    "scat_obj = Scattering2D(J=J,shape=(M,N),L=8,)"
   ]
  },
  {
   "cell_type": "code",
   "execution_count": 45,
   "metadata": {},
   "outputs": [
    {
     "data": {
      "text/plain": [
       "((88, 10827), (88,))"
      ]
     },
     "execution_count": 45,
     "metadata": {},
     "output_type": "execute_result"
    }
   ],
   "source": [
    "# Method1 [CH1,ch2,ch3]\n",
    "# epochs_train_data = epochs_train_data.reshape((epochs_train_data.shape[0], -1))\n",
    "# epochs_train_data.shape, labels.shape\n",
    "\n",
    "# Method2 [T1, T2, T3 ]\n",
    "epochs_train_data = np.transpose(epochs_train_data,axes=(0,2,1))\n",
    "epochs_train_data = epochs_train_data.reshape((epochs_train_data.shape[0], -1))\n",
    "epochs_train_data.shape, labels.shape\n"
   ]
  },
  {
   "cell_type": "code",
   "execution_count": 46,
   "metadata": {},
   "outputs": [],
   "source": [
    "from sklearn.discriminant_analysis import LinearDiscriminantAnalysis as LDA\n",
    "from sklearn.tree import DecisionTreeClassifier as DTC\n",
    "from sklearn.svm import SVC\n",
    "from sklearn.kernel_approximation import RBFSampler\n",
    "from sklearn.linear_model import LogisticRegression\n",
    "\n",
    "from sklearn.model_selection import ShuffleSplit\n",
    "from sklearn.pipeline import Pipeline\n",
    "from sklearn.model_selection import cross_val_score"
   ]
  },
  {
   "cell_type": "code",
   "execution_count": 47,
   "metadata": {},
   "outputs": [],
   "source": [
    "clf = SVC()\n",
    "cv = ShuffleSplit(10, test_size = 0.2, random_state=1)\n",
    "cv_split = cv.split(epochs_train_data, labels)\n",
    "pipe = Pipeline([('scatter', scat_obj), ('clf', clf)])\n",
    "scores = cross_val_score(pipe, epochs_train_data, labels, cv = cv, verbose=False)"
   ]
  },
  {
   "cell_type": "code",
   "execution_count": 49,
   "metadata": {},
   "outputs": [
    {
     "data": {
      "text/plain": [
       "0.5777777777777777"
      ]
     },
     "execution_count": 49,
     "metadata": {},
     "output_type": "execute_result"
    }
   ],
   "source": [
    "scores.mean()"
   ]
  },
  {
   "cell_type": "code",
   "execution_count": 23,
   "metadata": {},
   "outputs": [
    {
     "data": {
      "text/plain": [
       "['J',\n",
       " 'L',\n",
       " 'M',\n",
       " 'M_padded',\n",
       " 'N',\n",
       " 'N_padded',\n",
       " '__call__',\n",
       " '__class__',\n",
       " '__delattr__',\n",
       " '__dict__',\n",
       " '__dir__',\n",
       " '__doc__',\n",
       " '__eq__',\n",
       " '__format__',\n",
       " '__ge__',\n",
       " '__getattribute__',\n",
       " '__getstate__',\n",
       " '__gt__',\n",
       " '__hash__',\n",
       " '__init__',\n",
       " '__init_subclass__',\n",
       " '__le__',\n",
       " '__lt__',\n",
       " '__module__',\n",
       " '__ne__',\n",
       " '__new__',\n",
       " '__reduce__',\n",
       " '__reduce_ex__',\n",
       " '__repr__',\n",
       " '__setattr__',\n",
       " '__setstate__',\n",
       " '__sizeof__',\n",
       " '__str__',\n",
       " '__subclasshook__',\n",
       " '__weakref__',\n",
       " '_check_n_features',\n",
       " '_doc_alias_call',\n",
       " '_doc_alias_name',\n",
       " '_doc_array',\n",
       " '_doc_array_n',\n",
       " '_doc_attr_out_type',\n",
       " '_doc_attrs_shape',\n",
       " '_doc_class',\n",
       " '_doc_frontend_paragraph',\n",
       " '_doc_has_out_type',\n",
       " '_doc_has_shape',\n",
       " '_doc_instantiation_shape',\n",
       " '_doc_param_out_type',\n",
       " '_doc_param_shape',\n",
       " '_doc_sample',\n",
       " '_doc_scattering',\n",
       " '_doc_shape',\n",
       " '_document',\n",
       " '_get_param_names',\n",
       " '_get_tags',\n",
       " '_instantiate_backend',\n",
       " '_more_tags',\n",
       " '_repr_html_',\n",
       " '_repr_html_inner',\n",
       " '_repr_mimebundle_',\n",
       " '_validate_data',\n",
       " 'backend',\n",
       " 'build',\n",
       " 'create_filters',\n",
       " 'fit',\n",
       " 'fit_transform',\n",
       " 'frontend_name',\n",
       " 'get_params',\n",
       " 'max_order',\n",
       " 'out_type',\n",
       " 'pad',\n",
       " 'phi',\n",
       " 'pre_pad',\n",
       " 'predict',\n",
       " 'psi',\n",
       " 'scattering',\n",
       " 'set_params',\n",
       " 'shape',\n",
       " 'transform',\n",
       " 'unpad']"
      ]
     },
     "execution_count": 23,
     "metadata": {},
     "output_type": "execute_result"
    }
   ],
   "source": [
    "scat_obj.fit_transform()"
   ]
  },
  {
   "cell_type": "code",
   "execution_count": null,
   "metadata": {},
   "outputs": [],
   "source": [
    "from kymatio.sklearn import Scattering2D\n",
    "from kymatio.sklearn import Scattering1D\n",
    "from kymatio.scattering2d.filter_bank import filter_bank"
   ]
  },
  {
   "cell_type": "code",
   "execution_count": null,
   "metadata": {},
   "outputs": [],
   "source": [
    "start_time = 0\n",
    "end_time = 100\n",
    "time = np.arange(start_time, end_time, 1/100)\n",
    "theta = 0\n",
    "frequency = 5\n",
    "amplitude = 1\n",
    "y = np.concatenate((np.sin(2 * np.pi * frequency * time[0:5000] + theta), np.sin(2 * np.pi * 10 * time[5000:] + theta)))\n",
    "# figure(figsize=(20, 6), dpi=80)\n",
    "plt.plot(time,y)\n",
    "\n",
    "T =  y.shape[-1]\n",
    "J,L = 4,16\n",
    "scat_1D = Scattering1D(J,T,L)\n",
    "Sx1 = scat_1D(y)\n",
    "\n",
    "plt.figure()\n",
    "for i in range(len(scat_1D.psi1_f)):\n",
    "    plt.plot((np.abs(scat_1D.psi1_f[i][0])))\n",
    "plt.figure()\n",
    "for i in range(len(scat_1D.psi2_f)):\n",
    "    plt.plot((np.abs(scat_1D.psi2_f[i][0])))\n",
    "plt.figure()\n",
    "for i in range(len(scat_1D.phi_f)):\n",
    "    plt.plot((scat_1D.phi_f[0]))\n",
    "\n",
    "meta  = scat_1D.meta()\n",
    "order0 = np.where(meta['order'] == 0)\n",
    "order1 = np.where(meta['order'] == 1)\n",
    "order2 = np.where(meta['order'] == 2)"
   ]
  },
  {
   "cell_type": "code",
   "execution_count": null,
   "metadata": {},
   "outputs": [],
   "source": [
    "M,N = epoch.get_data().shape[1:]\n",
    "J,L = 3,8\n",
    "scat2D = Scattering2D(J=J,shape=(M,N),L=L)\n",
    "data = epoch['right'][0].get_data().squeeze(0)"
   ]
  },
  {
   "cell_type": "code",
   "execution_count": null,
   "metadata": {},
   "outputs": [],
   "source": [
    "plt.figure()\n",
    "for i in range(len(scat2D.psi[0])):\n",
    "    plt.plot((scat2D.psi[i][0]))\n",
    "plt.imshow((scat2D.psi[1][0]))"
   ]
  },
  {
   "cell_type": "code",
   "execution_count": null,
   "metadata": {},
   "outputs": [],
   "source": [
    "filters = filter_bank(68,121,4,10)\n",
    "filters"
   ]
  }
 ],
 "metadata": {
  "kernelspec": {
   "display_name": "Python 3.8.10 64-bit",
   "language": "python",
   "name": "python3"
  },
  "language_info": {
   "codemirror_mode": {
    "name": "ipython",
    "version": 3
   },
   "file_extension": ".py",
   "mimetype": "text/x-python",
   "name": "python",
   "nbconvert_exporter": "python",
   "pygments_lexer": "ipython3",
   "version": "3.8.10"
  },
  "orig_nbformat": 4,
  "vscode": {
   "interpreter": {
    "hash": "31f2aee4e71d21fbe5cf8b01ff0e069b9275f58929596ceb00d14d90e3e16cd6"
   }
  }
 },
 "nbformat": 4,
 "nbformat_minor": 2
}
