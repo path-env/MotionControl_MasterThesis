{
 "cells": [
  {
   "cell_type": "code",
   "execution_count": null,
   "metadata": {},
   "outputs": [],
   "source": [
    "import numpy as np\n",
    "from matplotlib import pyplot as plt\n",
    "\n",
    "import mne\n",
    "\n",
    "sfreq = 1000\n",
    "ch_names = ['EEG1', 'EEG2']\n",
    "ch_types = ['eeg', 'eeg']\n",
    "# ch_types = ['grad', 'grad']\n",
    "\n",
    "info = mne.create_info(ch_names=ch_names, sfreq=sfreq, ch_types=ch_types)\n",
    "\n",
    "n_times = 1024\n",
    "n_epochs = 40\n",
    "seed = 42\n",
    "rng = np.random.RandomState(seed)\n",
    "noise = rng.randn(n_epochs, len(ch_names), n_times)\n",
    "frequencies = np.arange(7, 30, 1)\n",
    "\n",
    "# Add a 50 Hz sinusoidal burst to the noise and ramp it.\n",
    "t = np.arange(n_times, dtype=np.float64) / sfreq\n",
    "signal = np.sin(np.pi * 2. * 50. * t)  # 50 Hz sinusoid signal\n",
    "# min_t, max_t = (t.shape[0]/2)-50, (t.shape[0]/2)+50\n",
    "signal[np.logical_or(t < 0.45, t > 0.55)] = 0.  # Hard windowing\n",
    "on_time = np.logical_and(t >= 0.45, t <= 0.55)\n",
    "signal[on_time] *= np.hanning(on_time.sum())  # Ramping\n",
    "data = noise + signal\n",
    "\n",
    "reject = dict(eeg=4000)\n",
    "events = np.empty((n_epochs, 3), dtype=int)\n",
    "first_event_sample = 100\n",
    "event_id = dict(sin50hz=1)\n",
    "for k in range(n_epochs):\n",
    "    events[k, :] = first_event_sample + k * n_times, 0, event_id['sin50hz']\n",
    "\n",
    "epochs = mne.EpochsArray(data=data, info=info, events=events, event_id=event_id)\n",
    "\n",
    "epochs.average().plot()\n",
    "freqs = np.arange(5., 100., 3.)\n",
    "vmin, vmax = -3., 3.  # Define our color limits."
   ]
  },
  {
   "cell_type": "code",
   "execution_count": null,
   "metadata": {},
   "outputs": [],
   "source": [
    "freq = np.arange(7., 30., 1)\n",
    "vmin, vmax = -3., 3.  # Define our color limits.\n",
    "n_cycles = freq / 2.\n",
    "time_bandwidth = 2.0  # Least possible frequency-smoothing (1 taper)\n",
    "power = mne.time_frequency.tfr_multitaper(epochs, freqs=freq, n_cycles=n_cycles,\n",
    "                       time_bandwidth=time_bandwidth, return_itc=False)\n",
    "# Plot results. Baseline correct based on first 100 ms.\n",
    "power.plot([0], baseline=(0., 0.1), mode='mean', vmin=vmin, vmax=vmax,\n",
    "           title='Sim: Least smoothing, most variance')"
   ]
  },
  {
   "cell_type": "code",
   "execution_count": null,
   "metadata": {},
   "outputs": [],
   "source": [
    "import numpy as np\n",
    "a = np.random.randn(757890)"
   ]
  },
  {
   "cell_type": "code",
   "execution_count": null,
   "metadata": {},
   "outputs": [],
   "source": [
    "a.reshape((88,27,400))"
   ]
  },
  {
   "cell_type": "code",
   "execution_count": null,
   "metadata": {},
   "outputs": [],
   "source": [
    "757890/(80*27*401)"
   ]
  },
  {
   "cell_type": "code",
   "execution_count": null,
   "metadata": {},
   "outputs": [],
   "source": [
    "from sklearn import datasets\n",
    "digits = datasets.load_digits()\n"
   ]
  },
  {
   "cell_type": "code",
   "execution_count": null,
   "metadata": {},
   "outputs": [],
   "source": [
    "img = digits.images"
   ]
  },
  {
   "cell_type": "code",
   "execution_count": null,
   "metadata": {},
   "outputs": [],
   "source": [
    "img.shape"
   ]
  },
  {
   "cell_type": "code",
   "execution_count": null,
   "metadata": {},
   "outputs": [],
   "source": [
    "rr = img.reshape((img.shape[0], -1))"
   ]
  },
  {
   "cell_type": "markdown",
   "metadata": {},
   "source": [
    "27*401"
   ]
  },
  {
   "cell_type": "code",
   "execution_count": null,
   "metadata": {},
   "outputs": [],
   "source": [
    "import numpy as np\n",
    "a = np.random.randn(2,3,2)"
   ]
  },
  {
   "cell_type": "code",
   "execution_count": null,
   "metadata": {},
   "outputs": [],
   "source": [
    "a"
   ]
  },
  {
   "cell_type": "code",
   "execution_count": null,
   "metadata": {},
   "outputs": [],
   "source": [
    "b = np.transpose(a,axes=(0,2,1))"
   ]
  },
  {
   "cell_type": "code",
   "execution_count": null,
   "metadata": {},
   "outputs": [],
   "source": [
    "b.reshape(b.shape[0],-1)"
   ]
  },
  {
   "cell_type": "code",
   "execution_count": null,
   "metadata": {},
   "outputs": [],
   "source": [
    "np.logspace(*np.log10([5, 30]), num=25)"
   ]
  },
  {
   "cell_type": "code",
   "execution_count": null,
   "metadata": {},
   "outputs": [],
   "source": [
    "import numpy as np\n",
    "np.arange(5, 30, 1)"
   ]
  },
  {
   "cell_type": "code",
   "execution_count": null,
   "metadata": {},
   "outputs": [],
   "source": [
    "import torch\n",
    "import torch.nn as nn"
   ]
  },
  {
   "cell_type": "code",
   "execution_count": null,
   "metadata": {},
   "outputs": [],
   "source": [
    "# from torchvision import transforms, models\n",
    "# alexnet = models.alexnet(weights='DEFAULT')\n",
    "# alexnet.classifier[6] = nn.Linear(4096,2)\n",
    "# alexnet.classifier.add_module('7',nn.LogSoftmax(dim=1))\n",
    "\n",
    "lin = nn.Linear(10, 10)\n",
    "lin.add_module('2', nn.LogSoftmax(dim=1))\n",
    "# m = nn.LogSoftmax(dim=1)\n",
    "loss = nn.NLLLoss()\n",
    "# input is of size N x C = 3 x 5\n",
    "input = torch.randn(3, 10, requires_grad=True)\n",
    "# each element in target has to have 0 <= value < C\n",
    "target = torch.tensor([1, 0, 4])\n",
    "op = lin(input)\n",
    "output = loss(op, target)"
   ]
  },
  {
   "cell_type": "code",
   "execution_count": null,
   "metadata": {},
   "outputs": [],
   "source": [
    "import torch \n",
    "import torch.nn as nn\n",
    "\n",
    "m = nn.Sigmoid()\n",
    "input = torch.randn(1)\n",
    "output = m(input)\n",
    "\n",
    "print(input)\n",
    "print(output)"
   ]
  },
  {
   "cell_type": "code",
   "execution_count": null,
   "metadata": {},
   "outputs": [],
   "source": [
    "lin = nn.Linear(10, 10)\n",
    "x = torch.randn(2, 10, 10)\n",
    "out = lin(x)\n",
    "out2 = torch.stack([lin(x_.squeeze(1)) for x_ in x.split(1, dim=1)], dim=1)\n",
    "print((out - out2).abs().max())"
   ]
  },
  {
   "cell_type": "code",
   "execution_count": null,
   "metadata": {},
   "outputs": [],
   "source": [
    "out2.shape"
   ]
  },
  {
   "cell_type": "code",
   "execution_count": null,
   "metadata": {},
   "outputs": [],
   "source": [
    "x_ = x.split(1, dim=1)[0]\n",
    "lin(x_.squeeze(1)).shape"
   ]
  },
  {
   "cell_type": "code",
   "execution_count": null,
   "metadata": {},
   "outputs": [],
   "source": [
    "x = torch.randn(3, requires_grad=True)\n",
    "y= x+2\n",
    "z = y*y*2\n",
    "print(z)\n",
    "z = z.mean()\n",
    "print(z)\n",
    "z = z.backward()\n",
    "# print(y.retain_grad()) \n",
    "print(z)"
   ]
  },
  {
   "cell_type": "code",
   "execution_count": null,
   "metadata": {},
   "outputs": [],
   "source": [
    "import numpy as np\n",
    "\n",
    "x = np.array([[[0,1, 67],[2,3,78]],[[4,5, 12],[6,7, 34]]])\n",
    "y = x*2\n",
    "ans = np.zeros((2,2,2,3))\n",
    "ans[0,:,:,:] = x\n",
    "ans[1,:,:,:] = y\n",
    "ans.shape"
   ]
  },
  {
   "cell_type": "code",
   "execution_count": null,
   "metadata": {},
   "outputs": [],
   "source": [
    "ans"
   ]
  },
  {
   "cell_type": "code",
   "execution_count": null,
   "metadata": {},
   "outputs": [],
   "source": [
    "import torch\n",
    "print(torch.__version__)"
   ]
  },
  {
   "cell_type": "code",
   "execution_count": null,
   "metadata": {},
   "outputs": [],
   "source": [
    "import torch\n",
    "import torch.nn as nn\n",
    "torch.random.manual_seed(24)\n",
    "# Single-label binary\n",
    "x = torch.randn(10)\n",
    "yhat = torch.sigmoid(x)\n",
    "y = torch.randint(2, (10,), dtype=torch.float)\n",
    "loss = nn.BCELoss()(yhat, y)"
   ]
  },
  {
   "cell_type": "code",
   "execution_count": null,
   "metadata": {},
   "outputs": [],
   "source": [
    "print(x)\n",
    "\n",
    "print(yhat)\n",
    "\n",
    "print(y)"
   ]
  },
  {
   "cell_type": "code",
   "execution_count": null,
   "metadata": {},
   "outputs": [],
   "source": [
    "print(loss)"
   ]
  },
  {
   "cell_type": "code",
   "execution_count": null,
   "metadata": {},
   "outputs": [],
   "source": [
    "x = torch.randn(10, 5)\n",
    "yhat = torch.sigmoid(x)\n",
    "y = torch.randint(2, (10, 5), dtype=torch.float)\n",
    "loss = nn.BCELoss()(yhat, y)"
   ]
  },
  {
   "cell_type": "code",
   "execution_count": null,
   "metadata": {},
   "outputs": [],
   "source": [
    "x = torch.randn(10, 5)\n",
    "y = torch.sigmoid(torch.randint(2, (10,5), dtype=torch.float))\n",
    "loss = nn.BCELoss()(x, y)"
   ]
  },
  {
   "cell_type": "code",
   "execution_count": null,
   "metadata": {},
   "outputs": [],
   "source": [
    "input = torch.randn(32, 1, 5, 5)\n",
    "# With default parameters\n",
    "m = nn.Flatten(0,-1)\n",
    "output = m(input)\n",
    "output.size()\n",
    "\n",
    "# # With non-default parameters\n",
    "# m = nn.Flatten(0, 2)\n",
    "# output = m(input)\n",
    "# output.size()\n",
    "# torch.Size([160, 5])"
   ]
  },
  {
   "cell_type": "code",
   "execution_count": null,
   "metadata": {},
   "outputs": [],
   "source": [
    "import torch\n",
    "a = torch.randn(4,4)\n",
    "a"
   ]
  },
  {
   "cell_type": "code",
   "execution_count": null,
   "metadata": {},
   "outputs": [],
   "source": [
    "import numpy as np\n",
    "train_data = np.random.rand(4,5)\n",
    "dd = np.expand_dims(train_data, axis=0)"
   ]
  },
  {
   "cell_type": "markdown",
   "metadata": {},
   "source": []
  },
  {
   "cell_type": "code",
   "execution_count": null,
   "metadata": {},
   "outputs": [],
   "source": [
    "import torch\n",
    "import torch.nn as nn"
   ]
  },
  {
   "cell_type": "code",
   "execution_count": null,
   "metadata": {},
   "outputs": [],
   "source": [
    "# Example of target with class indices\n",
    "loss = nn.CrossEntropyLoss()\n",
    "input = torch.randn(1, 5, requires_grad=True)\n",
    "target = torch.empty(1, dtype=torch.long).random_(2)\n",
    "output = loss(input, target)\n",
    "output.backward()"
   ]
  },
  {
   "cell_type": "code",
   "execution_count": null,
   "metadata": {},
   "outputs": [],
   "source": [
    "print(input, output, target)"
   ]
  },
  {
   "cell_type": "code",
   "execution_count": null,
   "metadata": {},
   "outputs": [],
   "source": [
    "# Example of target with class probabilities\n",
    "input = torch.randn(3, 5, requires_grad=True)\n",
    "print(input)\n",
    "target = torch.empty(3, dtype=torch.long).random_(2)\n",
    "print(target)\n",
    "output = loss(input, target)\n",
    "output.backward()"
   ]
  },
  {
   "cell_type": "code",
   "execution_count": null,
   "metadata": {},
   "outputs": [],
   "source": [
    "print(input, output, target)"
   ]
  },
  {
   "cell_type": "code",
   "execution_count": null,
   "metadata": {},
   "outputs": [],
   "source": [
    "import numpy as np\n",
    "np.random.uniform(size=(3,))"
   ]
  },
  {
   "cell_type": "code",
   "execution_count": null,
   "metadata": {},
   "outputs": [],
   "source": [
    "yy = [2,3]\n",
    "dd = np.repeat(yy, repeats=1000)"
   ]
  },
  {
   "cell_type": "code",
   "execution_count": 1,
   "metadata": {},
   "outputs": [
    {
     "data": {
      "text/plain": [
       "(25, 16, 331)"
      ]
     },
     "execution_count": 1,
     "metadata": {},
     "output_type": "execute_result"
    }
   ],
   "source": [
    "import numpy as np\n",
    "epoch_data = np.random.rand(25,16,331)\n",
    "epoch_data.shape"
   ]
  },
  {
   "cell_type": "code",
   "execution_count": 9,
   "metadata": {},
   "outputs": [
    {
     "name": "stdout",
     "output_type": "stream",
     "text": [
      "(25, 16)\n",
      "(25, 16)\n",
      "(25, 16)\n",
      "(25, 16)\n",
      "(25, 16)\n",
      "(25, 16)\n",
      "(25, 16)\n",
      "(25, 16)\n",
      "(25, 16)\n",
      "(25, 16)\n",
      "(25, 16)\n"
     ]
    }
   ],
   "source": [
    "n_segments = 5 #*2\n",
    "n_T = len(epoch_data[0,0,:])\n",
    "window_size = int((n_T/n_segments)) # 50% overlap\n",
    "t = 0\n",
    "for t in range(0,n_T, int(window_size//2)):\n",
    "    seg = epoch_data[:,:,t:t+window_size]\n",
    "    print(np.mean(seg,axis = 2).shape)"
   ]
  },
  {
   "cell_type": "code",
   "execution_count": 4,
   "metadata": {},
   "outputs": [
    {
     "data": {
      "text/plain": [
       "array([[0.52899828, 0.87451781, 0.76699449],\n",
       "       [0.22387748, 0.54728423, 0.48565843],\n",
       "       [0.14720129, 0.42926063, 0.02894138],\n",
       "       [0.86747323, 0.50014696, 0.12616905],\n",
       "       [0.23080955, 0.73366793, 0.51645519]])"
      ]
     },
     "execution_count": 4,
     "metadata": {},
     "output_type": "execute_result"
    }
   ],
   "source": [
    "aa = np.random.rand(5,3)\n",
    "aa"
   ]
  },
  {
   "cell_type": "code",
   "execution_count": null,
   "metadata": {},
   "outputs": [],
   "source": [
    "dd = np.expand_dims(aa, axis =2)\n",
    "dd"
   ]
  },
  {
   "cell_type": "code",
   "execution_count": 12,
   "metadata": {},
   "outputs": [],
   "source": [
    "dd[:,:,0] = np.ones((5,3))"
   ]
  },
  {
   "cell_type": "code",
   "execution_count": 13,
   "metadata": {},
   "outputs": [
    {
     "data": {
      "text/plain": [
       "array([[[1.],\n",
       "        [1.],\n",
       "        [1.]],\n",
       "\n",
       "       [[1.],\n",
       "        [1.],\n",
       "        [1.]],\n",
       "\n",
       "       [[1.],\n",
       "        [1.],\n",
       "        [1.]],\n",
       "\n",
       "       [[1.],\n",
       "        [1.],\n",
       "        [1.]],\n",
       "\n",
       "       [[1.],\n",
       "        [1.],\n",
       "        [1.]]])"
      ]
     },
     "execution_count": 13,
     "metadata": {},
     "output_type": "execute_result"
    }
   ],
   "source": [
    "dd"
   ]
  },
  {
   "cell_type": "code",
   "execution_count": null,
   "metadata": {},
   "outputs": [],
   "source": []
  }
 ],
 "metadata": {
  "interpreter": {
   "hash": "31f2aee4e71d21fbe5cf8b01ff0e069b9275f58929596ceb00d14d90e3e16cd6"
  },
  "kernelspec": {
   "display_name": "Python 3.8.10 64-bit",
   "language": "python",
   "name": "python3"
  },
  "language_info": {
   "codemirror_mode": {
    "name": "ipython",
    "version": 3
   },
   "file_extension": ".py",
   "mimetype": "text/x-python",
   "name": "python",
   "nbconvert_exporter": "python",
   "pygments_lexer": "ipython3",
   "version": "3.8.10"
  },
  "orig_nbformat": 4
 },
 "nbformat": 4,
 "nbformat_minor": 2
}
