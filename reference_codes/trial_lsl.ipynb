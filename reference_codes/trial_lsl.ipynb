{
 "cells": [
  {
   "cell_type": "code",
   "execution_count": 6,
   "metadata": {},
   "outputs": [
    {
     "name": "stdout",
     "output_type": "stream",
     "text": [
      "looking for an EEG stream...\n"
     ]
    }
   ],
   "source": [
    "from pylsl import StreamInlet, resolve_stream\n",
    "print(\"looking for an EEG stream...\")\n",
    "# # resolve_stream(args=['name',])\n",
    "resolve_stream('type', 'EEG')\n",
    "# create a new inlet to read from the stream\n",
    "# inlet = StreamInlet(streams[0])\n",
    "# print(streams[0].name())\n",
    "# # while True:\n",
    "# # samp, time = inlet.pull_sample()\n",
    "# # print(len(samp), time)\n"
   ]
  },
  {
   "cell_type": "code",
   "execution_count": 5,
   "metadata": {},
   "outputs": [
    {
     "name": "stdout",
     "output_type": "stream",
     "text": [
      "Help on function resolve_stream in module pylsl.pylsl:\n",
      "\n",
      "resolve_stream(*args)\n",
      "\n"
     ]
    }
   ],
   "source": [
    "help(resolve_stream)"
   ]
  },
  {
   "cell_type": "code",
   "execution_count": null,
   "metadata": {},
   "outputs": [],
   "source": [
    "streams"
   ]
  },
  {
   "cell_type": "code",
   "execution_count": null,
   "metadata": {},
   "outputs": [],
   "source": [
    "import numpy as np\n",
    "freq = 110\n",
    "n_samp = 1 + 3*freq"
   ]
  },
  {
   "cell_type": "code",
   "execution_count": null,
   "metadata": {},
   "outputs": [],
   "source": [
    "np.asarray(inlet.pull_chunk(max_samples=n_samp)[0]).shape"
   ]
  },
  {
   "cell_type": "code",
   "execution_count": null,
   "metadata": {},
   "outputs": [],
   "source": [
    "import torch \n",
    "x = torch.randn(2, 3)\n",
    "x"
   ]
  },
  {
   "cell_type": "code",
   "execution_count": null,
   "metadata": {},
   "outputs": [],
   "source": [
    "x = torch.transpose(x, 0, 1)\n",
    "x"
   ]
  },
  {
   "cell_type": "code",
   "execution_count": null,
   "metadata": {},
   "outputs": [],
   "source": [
    "x = x.unsqueeze(0)\n",
    "x.shape"
   ]
  },
  {
   "cell_type": "code",
   "execution_count": 6,
   "metadata": {},
   "outputs": [],
   "source": [
    "ch_names = ['F3', 'F4', 'C3', 'C4', 'P3', 'O1', 'O2', 'P4', 'T7', 'T8', 'F7', 'F8', 'P7', 'P8', 'Fp1','Fp2']\n",
    "ch_type = []\n",
    "ch_types = [ch_type.append('eeg') for _ in range(len(ch_names))]"
   ]
  },
  {
   "cell_type": "code",
   "execution_count": 15,
   "metadata": {},
   "outputs": [],
   "source": [
    "import numpy as np\n",
    "gg = np.ones((4,5))\n",
    "hh = np.zeros((3,3))"
   ]
  },
  {
   "cell_type": "code",
   "execution_count": 20,
   "metadata": {},
   "outputs": [
    {
     "data": {
      "text/plain": [
       "[[1.0, 1.0, 1.0, 1.0, 1.0],\n",
       " [1.0, 1.0, 1.0, 1.0, 1.0],\n",
       " [1.0, 1.0, 1.0, 1.0, 1.0],\n",
       " [1.0, 1.0, 1.0, 1.0, 1.0]]"
      ]
     },
     "execution_count": 20,
     "metadata": {},
     "output_type": "execute_result"
    }
   ],
   "source": [
    "ee = gg.tolist()\n",
    "ee"
   ]
  },
  {
   "cell_type": "code",
   "execution_count": 21,
   "metadata": {},
   "outputs": [
    {
     "data": {
      "text/plain": [
       "array([[1., 1., 1., 1.],\n",
       "       [1., 1., 1., 1.],\n",
       "       [1., 1., 1., 1.],\n",
       "       [1., 1., 1., 1.],\n",
       "       [1., 1., 1., 1.]])"
      ]
     },
     "execution_count": 21,
     "metadata": {},
     "output_type": "execute_result"
    }
   ],
   "source": [
    "np.transpose(ee)"
   ]
  },
  {
   "cell_type": "code",
   "execution_count": 2,
   "metadata": {},
   "outputs": [
    {
     "name": "stdout",
     "output_type": "stream",
     "text": [
      "\n",
      "/home/mangaldeep/.local/lib/python3.8/site-packages\n",
      "/home/mangaldeep/.vscode/extensions/ms-toolsai.jupyter-2022.8.1002431955/pythonFiles\n",
      "/home/mangaldeep/.vscode/extensions/ms-toolsai.jupyter-2022.8.1002431955/pythonFiles/lib/python\n",
      "/media/mangaldeep/HDD2/workspace/MotionControl_MasterThesis/reference_codes\n",
      "/opt/carla-simulator/PythonAPI/carla\n",
      "/opt/carla-simulator/PythonAPI/carla/dist/carla-0.9.11-py3.7-linux-x86_64.egg\n",
      "/usr/lib/python3.8\n",
      "/usr/lib/python3.8/lib-dynload\n",
      "/usr/lib/python3/dist-packages\n",
      "/usr/lib/python38.zip\n",
      "/usr/local/lib/python3.8/dist-packages\n",
      "<module 'resource' from '/usr/lib/python3.8/lib-dynload/resource.cpython-38-x86_64-linux-gnu.so'>\n"
     ]
    }
   ],
   "source": [
    "import sys\n",
    "print('\\n'.join(sorted(sys.path)))\n",
    "\n",
    "import resource\n",
    "print(resource)"
   ]
  },
  {
   "cell_type": "code",
   "execution_count": 50,
   "metadata": {},
   "outputs": [],
   "source": [
    "import numpy as np\n",
    "datafile = np.load('/media/mangaldeep/HDD2/workspace/MotionControl_MasterThesis/data/test/OBCI_3class_eegnet.npz')\n",
    "from sklearn.model_selection import train_test_split"
   ]
  },
  {
   "cell_type": "code",
   "execution_count": 51,
   "metadata": {},
   "outputs": [
    {
     "data": {
      "text/plain": [
       "(300, 1, 16, 331)"
      ]
     },
     "execution_count": 51,
     "metadata": {},
     "output_type": "execute_result"
    }
   ],
   "source": [
    "channel_datas = datafile['arr_0']\n",
    "labels = datafile['arr_1']\n",
    "channel_datas.shape"
   ]
  },
  {
   "cell_type": "code",
   "execution_count": 44,
   "metadata": {},
   "outputs": [],
   "source": [
    "\n",
    "channel_datas = (channel_datas - channel_datas.min()) / (channel_datas.max() - channel_datas.min())\n",
    "# Test train split\n",
    "train_x, test_x,train_y,test_y = train_test_split(channel_datas, labels, test_size= 0.1,\n",
    "                                stratify= labels, random_state= 42)"
   ]
  },
  {
   "cell_type": "code",
   "execution_count": 48,
   "metadata": {},
   "outputs": [
    {
     "data": {
      "text/plain": [
       "(2700, 1, 16, 331)"
      ]
     },
     "execution_count": 48,
     "metadata": {},
     "output_type": "execute_result"
    }
   ],
   "source": [
    "channel_datas.shape"
   ]
  },
  {
   "cell_type": "code",
   "execution_count": 42,
   "metadata": {},
   "outputs": [],
   "source": [
    "np.savez('/media/mangaldeep/HDD2/workspace/MotionControl_MasterThesis/data/train/OBCI_3class_eegnet.npz', train_x, train_y)\n",
    "np.savez('/media/mangaldeep/HDD2/workspace/MotionControl_MasterThesis/data/test/OBCI_3class_eegnet.npz', test_x, test_y)"
   ]
  },
  {
   "cell_type": "code",
   "execution_count": 37,
   "metadata": {},
   "outputs": [],
   "source": [
    "np.savez('/media/mangaldeep/HDD2/workspace/MotionControl_MasterThesis/data/train/OBCI_3class_eegnet.npz', x,y)"
   ]
  }
 ],
 "metadata": {
  "kernelspec": {
   "display_name": "Python 3.8.10 64-bit",
   "language": "python",
   "name": "python3"
  },
  "language_info": {
   "codemirror_mode": {
    "name": "ipython",
    "version": 3
   },
   "file_extension": ".py",
   "mimetype": "text/x-python",
   "name": "python",
   "nbconvert_exporter": "python",
   "pygments_lexer": "ipython3",
   "version": "3.8.10"
  },
  "orig_nbformat": 4,
  "vscode": {
   "interpreter": {
    "hash": "31f2aee4e71d21fbe5cf8b01ff0e069b9275f58929596ceb00d14d90e3e16cd6"
   }
  }
 },
 "nbformat": 4,
 "nbformat_minor": 2
}
