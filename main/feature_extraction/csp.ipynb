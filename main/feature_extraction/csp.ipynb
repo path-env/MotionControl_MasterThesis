{
 "cells": [
  {
   "cell_type": "markdown",
   "metadata": {},
   "source": [
    "## CSP Type:\n",
    "1, CSSP: Common Spatial Spectral Pattern\n",
    "\n",
    "2, SWCSP: Spectrally Weighted Common Spatial Patterns\n",
    "\n",
    "3, ISSPL: Iterative Spatio Spectral Patterns Learning\n",
    "\n",
    "4, FBCSP: Filter Bank Common Spatial Patterns\n",
    "\n",
    "5, SCSSP: Seperable Common Spatio-spectral patterns\n"
   ]
  },
  {
   "cell_type": "code",
   "execution_count": null,
   "metadata": {},
   "outputs": [],
   "source": []
  }
 ],
 "metadata": {
  "language_info": {
   "name": "python"
  },
  "orig_nbformat": 4
 },
 "nbformat": 4,
 "nbformat_minor": 2
}
