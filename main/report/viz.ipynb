{
 "cells": [
  {
   "cell_type": "code",
   "execution_count": null,
   "metadata": {},
   "outputs": [
    {
     "ename": "",
     "evalue": "",
     "output_type": "error",
     "traceback": [
      "\u001b[1;31mFailed to start the Kernel. \n",
      "\u001b[1;31mJupyter server crashed. Unable to connect. \n",
      "\u001b[1;31mError code from Jupyter: 1\n",
      "\u001b[1;31mTraceback (most recent call last):\n",
      "\u001b[1;31m  File \"/usr/lib/python3.8/runpy.py\", line 194, in _run_module_as_main\n",
      "\u001b[1;31m    return _run_code(code, main_globals, None,\n",
      "\u001b[1;31m  File \"/usr/lib/python3.8/runpy.py\", line 87, in _run_code\n",
      "\u001b[1;31m    exec(code, run_globals)\n",
      "\u001b[1;31m  File \"/home/mangaldeep/.local/lib/python3.8/site-packages/jupyter.py\", line 10, in <module>\n",
      "\u001b[1;31m    run_module('jupyter_core')\n",
      "\u001b[1;31m  File \"/usr/lib/python3.8/runpy.py\", line 210, in run_module\n",
      "\u001b[1;31m    return _run_code(code, {}, init_globals, run_name, mod_spec)\n",
      "\u001b[1;31m  File \"/usr/lib/python3.8/runpy.py\", line 87, in _run_code\n",
      "\u001b[1;31m\n",
      "\u001b[1;31m    exec(code, run_globals)\n",
      "\u001b[1;31m  File \"/home/mangaldeep/.local/lib/python3.8/site-packages/jupyter_core/__main__.py\", line 3, in <module>\n",
      "\u001b[1;31m    main()\n",
      "\u001b[1;31m  File \"/home/mangaldeep/.local/lib/python3.8/site-packages/jupyter_core/command.py\", line 285, in main\n",
      "\u001b[1;31m    command = _jupyter_abspath(subcommand)\n",
      "\u001b[1;31m  File \"/home/mangaldeep/.local/lib/python3.8/site-packages/jupyter_core/command.py\", line 124, in _jupyter_abspath\n",
      "\u001b[1;31m    raise Exception(\n",
      "\u001b[1;31mException: Jupyter command `jupyter-notebook` not found. \n",
      "\u001b[1;31mView Jupyter <a href='command:jupyter.viewOutput'>log</a> for further details."
     ]
    }
   ],
   "source": [
    "import plotly.graph_objects as go\n",
    "import numpy as np\n",
    "import pandas as pd\n",
    "import plotly.express as px\n",
    "\n",
    "# read report\n",
    "ML_data = np.load('/media/mangaldeep/HDD2/workspace/MotionControl_MasterThesis/main/report/ML_results.npz', allow_pickle= True)\n",
    "DL_data = np.load('/media/mangaldeep/HDD2/workspace/MotionControl_MasterThesis/DL_results.npz', allow_pickle= True)\n",
    "\n",
    "ML_data = ML_data['arr_0'][0]\n",
    "\n",
    "ML_data['cv_time'] = [ele for ele in ML_data['cv_time'] for i in range(10)]\n",
    "\n",
    "ML_df = pd.DataFrame(ML_data)\n",
    "\n",
    "DL_data = DL_data['arr_0'][0]\n",
    "\n",
    "DL_df = pd.DataFrame(DL_data)\n",
    "\n",
    "# df = df[df['dataset']=='OCIParams']\n",
    "df = pd.concat([ML_df,DL_df])"
   ]
  }
 ],
 "metadata": {
  "kernelspec": {
   "display_name": "Python 3",
   "language": "python",
   "name": "python3"
  },
  "language_info": {
   "name": "python",
   "version": "3.8.10"
  },
  "orig_nbformat": 4,
  "vscode": {
   "interpreter": {
    "hash": "31f2aee4e71d21fbe5cf8b01ff0e069b9275f58929596ceb00d14d90e3e16cd6"
   }
  }
 },
 "nbformat": 4,
 "nbformat_minor": 2
}
