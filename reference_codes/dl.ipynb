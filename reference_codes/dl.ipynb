{
 "cells": [
  {
   "cell_type": "code",
   "execution_count": 1,
   "metadata": {},
   "outputs": [],
   "source": [
    "import torch\n",
    "import torchvision\n",
    "import torch.nn as nn\n",
    "import torch.utils.data as dataset\n",
    "import torchvision.transforms as transform\n",
    "import torch.optim as optim\n",
    "from torch.utils.data import DataLoader, Dataset\n",
    "from torchsummary import summary\n",
    "from torch.utils.data.sampler import SubsetRandomSampler\n",
    "import torch.optim.lr_scheduler as lr_scheduler\n",
    "\n",
    "import sys\n",
    "sys.path.append('/media/mangaldeep/HDD2/workspace/MotionControl_MasterThesis')\n",
    "from models.train_net import train_and_validate"
   ]
  },
  {
   "cell_type": "code",
   "execution_count": 2,
   "metadata": {},
   "outputs": [],
   "source": [
    "train = torchvision.datasets.FashionMNIST(root='/media/mangaldeep/HDD3/DataSets/FashionMNIST',\n",
    "        train = True, download = False,transform= transform.Compose([transform.ToTensor()]))"
   ]
  },
  {
   "cell_type": "code",
   "execution_count": 3,
   "metadata": {},
   "outputs": [],
   "source": [
    "train_loader = torch.utils.data.DataLoader(train, batch_size=1)\n",
    "data, label = next(iter(train_loader))"
   ]
  },
  {
   "cell_type": "code",
   "execution_count": 12,
   "metadata": {},
   "outputs": [],
   "source": [
    "class trialnet(nn.Module):\n",
    "    def __init__(self) -> None:\n",
    "        super(trialnet, self).__init__()\n",
    "        self.conv1 = nn.Conv2d(1,5,5)\n",
    "        self.conv2 = nn.Conv2d(5,10,5)\n",
    "        self.bn = nn.BatchNorm2d(10)\n",
    "        self.lin = nn.Linear(20,2)\n",
    "    \n",
    "    def forward(self,x):\n",
    "        x = nn.functional.relu(self.conv1(x))\n",
    "        x = nn.functional.relu(self.conv2(x))\n",
    "        x = self.bn(x)\n",
    "        x = self.lin(x)\n",
    "        x = nn.functional.softmax(x)\n",
    "        return x"
   ]
  },
  {
   "cell_type": "code",
   "execution_count": 13,
   "metadata": {},
   "outputs": [
    {
     "name": "stdout",
     "output_type": "stream",
     "text": [
      "Epoch: 1/25\n"
     ]
    },
    {
     "name": "stderr",
     "output_type": "stream",
     "text": [
      "/tmp/ipykernel_42886/4031237847.py:14: UserWarning: Implicit dimension choice for softmax has been deprecated. Change the call to include dim=X as an argument.\n",
      "  x = nn.functional.softmax(x)\n"
     ]
    },
    {
     "ename": "RuntimeError",
     "evalue": "shape '[10, 20, 2]' is invalid for input of size 1",
     "output_type": "error",
     "traceback": [
      "\u001b[0;31m---------------------------------------------------------------------------\u001b[0m",
      "\u001b[0;31mRuntimeError\u001b[0m                              Traceback (most recent call last)",
      "\u001b[1;32m/media/mangaldeep/HDD2/workspace/MotionControl_MasterThesis/reference_codes/dl.ipynb Cell 5\u001b[0m in \u001b[0;36m<cell line: 15>\u001b[0;34m()\u001b[0m\n\u001b[1;32m      <a href='vscode-notebook-cell:/media/mangaldeep/HDD2/workspace/MotionControl_MasterThesis/reference_codes/dl.ipynb#W6sZmlsZQ%3D%3D?line=8'>9</a>\u001b[0m LRscheduler \u001b[39m=\u001b[39m lr_scheduler\u001b[39m.\u001b[39mStepLR(optimizer, step_size\u001b[39m=\u001b[39m\u001b[39m7\u001b[39m, gamma\u001b[39m=\u001b[39m\u001b[39m0.1\u001b[39m)\n\u001b[1;32m     <a href='vscode-notebook-cell:/media/mangaldeep/HDD2/workspace/MotionControl_MasterThesis/reference_codes/dl.ipynb#W6sZmlsZQ%3D%3D?line=10'>11</a>\u001b[0m \u001b[39m# # Optimizer\u001b[39;00m\n\u001b[1;32m     <a href='vscode-notebook-cell:/media/mangaldeep/HDD2/workspace/MotionControl_MasterThesis/reference_codes/dl.ipynb#W6sZmlsZQ%3D%3D?line=11'>12</a>\u001b[0m \u001b[39m# optimizer = torch.optim.Adam(model.parameters())\u001b[39;00m\n\u001b[1;32m     <a href='vscode-notebook-cell:/media/mangaldeep/HDD2/workspace/MotionControl_MasterThesis/reference_codes/dl.ipynb#W6sZmlsZQ%3D%3D?line=12'>13</a>\u001b[0m \n\u001b[1;32m     <a href='vscode-notebook-cell:/media/mangaldeep/HDD2/workspace/MotionControl_MasterThesis/reference_codes/dl.ipynb#W6sZmlsZQ%3D%3D?line=13'>14</a>\u001b[0m \u001b[39m# train and test\u001b[39;00m\n\u001b[0;32m---> <a href='vscode-notebook-cell:/media/mangaldeep/HDD2/workspace/MotionControl_MasterThesis/reference_codes/dl.ipynb#W6sZmlsZQ%3D%3D?line=14'>15</a>\u001b[0m train_and_validate(model, train_loader, train_loader, loss,optimizer, LRscheduler, epochs \u001b[39m=\u001b[39m \u001b[39m25\u001b[39m)\n",
      "File \u001b[0;32m/media/mangaldeep/HDD2/workspace/MotionControl_MasterThesis/models/train_net.py:66\u001b[0m, in \u001b[0;36mtrain_and_validate\u001b[0;34m(model, train_loader, validation_loader, loss_criterion, optimizer, LRscheduler, epochs)\u001b[0m\n\u001b[1;32m     64\u001b[0m \u001b[39m# Forward pass - compute outputs on input data using the model\u001b[39;00m\n\u001b[1;32m     65\u001b[0m outputs \u001b[39m=\u001b[39m model(inputs)\u001b[39m.\u001b[39msqueeze(\u001b[39m0\u001b[39m)\n\u001b[0;32m---> 66\u001b[0m labels \u001b[39m=\u001b[39m labels\u001b[39m.\u001b[39;49mview_as(outputs)\n\u001b[1;32m     68\u001b[0m \u001b[39m# Compute loss\u001b[39;00m\n\u001b[1;32m     69\u001b[0m loss \u001b[39m=\u001b[39m loss_criterion(outputs, labels)\n",
      "\u001b[0;31mRuntimeError\u001b[0m: shape '[10, 20, 2]' is invalid for input of size 1"
     ]
    }
   ],
   "source": [
    "model = trialnet()\n",
    "# Loss function\n",
    "loss = torch.nn.CrossEntropyLoss()\n",
    "\n",
    "# Observe that all parameters are being optimized\n",
    "optimizer = optim.SGD(model.parameters(), lr=0.001, momentum=0.9)\n",
    "\n",
    "# Decay LR by a factor of 0.1 every 7 epochs\n",
    "LRscheduler = lr_scheduler.StepLR(optimizer, step_size=7, gamma=0.1)\n",
    "\n",
    "# # Optimizer\n",
    "# optimizer = torch.optim.Adam(model.parameters())\n",
    "\n",
    "# train and test\n",
    "train_and_validate(model, train_loader, train_loader, loss,optimizer, LRscheduler, epochs = 25)"
   ]
  },
  {
   "cell_type": "code",
   "execution_count": null,
   "metadata": {},
   "outputs": [],
   "source": [
    "# model = trialnet()\n",
    "# output = model(data)"
   ]
  },
  {
   "cell_type": "code",
   "execution_count": null,
   "metadata": {},
   "outputs": [],
   "source": []
  }
 ],
 "metadata": {
  "kernelspec": {
   "display_name": "Python 3.8.10 64-bit",
   "language": "python",
   "name": "python3"
  },
  "language_info": {
   "codemirror_mode": {
    "name": "ipython",
    "version": 3
   },
   "file_extension": ".py",
   "mimetype": "text/x-python",
   "name": "python",
   "nbconvert_exporter": "python",
   "pygments_lexer": "ipython3",
   "version": "3.8.10"
  },
  "orig_nbformat": 4,
  "vscode": {
   "interpreter": {
    "hash": "31f2aee4e71d21fbe5cf8b01ff0e069b9275f58929596ceb00d14d90e3e16cd6"
   }
  }
 },
 "nbformat": 4,
 "nbformat_minor": 2
}
