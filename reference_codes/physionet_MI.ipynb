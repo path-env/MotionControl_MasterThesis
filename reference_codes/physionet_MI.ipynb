{
 "cells": [
  {
   "cell_type": "code",
   "execution_count": null,
   "metadata": {},
   "outputs": [],
   "source": [
    "import os\n",
    "import sys\n",
    "sys.path.append('/media/mangaldeep/HDD2/workspace/MotionControl_MasterThesis')"
   ]
  },
  {
   "cell_type": "code",
   "execution_count": null,
   "metadata": {},
   "outputs": [],
   "source": [
    "import mne\n",
    "import import_ipynb\n",
    "\n",
    "# Local Imports\n",
    "from  preproc.preproc_pipeline import ica2,ssp,car,spectral_filt\n",
    "from extraction.physionet_MI import extract\n",
    "\n",
    "from data import brain_atlas  as bm"
   ]
  },
  {
   "cell_type": "markdown",
   "metadata": {},
   "source": [
    "### Preprocessing"
   ]
  },
  {
   "cell_type": "markdown",
   "metadata": {},
   "source": [
    "#### Remove Line noise and apply band pass"
   ]
  },
  {
   "cell_type": "code",
   "execution_count": null,
   "metadata": {},
   "outputs": [],
   "source": [
    "#2, Spectral Filtering\n",
    "rawfltrd = spectral_filt(raw, elec_lines, L_cutoff, H_cutoff)"
   ]
  },
  {
   "cell_type": "code",
   "execution_count": null,
   "metadata": {},
   "outputs": [],
   "source": [
    "## Analysis after Spectral filter\n",
    "# rawfltrd.plot(scalings=scale, clipping='transparent'); #, order=pick_ch_idx\n",
    "# rawfltrd.plot(scalings='auto');\n",
    "# rawfltrd.plot_psd_topo(show = True);\n",
    "# rawfltrd.plot_sensors(show_names=True,kind = '3d', sphere=(0.0, 0.015, 0.033, 0.1));"
   ]
  },
  {
   "cell_type": "code",
   "execution_count": null,
   "metadata": {},
   "outputs": [],
   "source": [
    "#3.2, Artifact Removal: CAR\n",
    "rawfltrd_car = car(rawfltrd)"
   ]
  },
  {
   "cell_type": "code",
   "execution_count": null,
   "metadata": {},
   "outputs": [],
   "source": [
    "#3.1, Artifact Removal: SSP\n",
    "rawfltrd_ssp = ssp(rawfltrd_car)"
   ]
  },
  {
   "cell_type": "code",
   "execution_count": null,
   "metadata": {},
   "outputs": [],
   "source": [
    "rawfltrd_car.plot_psd_topo();\n",
    "rawfltrd_ssp.plot_psd_topo();"
   ]
  },
  {
   "cell_type": "code",
   "execution_count": null,
   "metadata": {},
   "outputs": [],
   "source": [
    "## Analysis after Projections\n",
    "# rawfltrd_ssp.plot_projs_topomap();\n",
    "rawfltrd_ssp.info['projs']\n",
    "# Compare after and before projection\n",
    "# rawfltrd.plot(scalings=scale, clipping='transparent', order=pick_ch_idx);\n",
    "# rawfltrd.plot(scalings=scale, clipping='transparent', butterfly= False, title='Raw Filtered (Without Projection))', proj= False, order=pick_ch_idx);\n",
    "# rawfltrd.plot(scalings=scale, clipping='transparent', butterfly= False, title='Raw Filtered(With Projection)', proj= True, order=pick_ch_idx);"
   ]
  },
  {
   "cell_type": "code",
   "execution_count": null,
   "metadata": {},
   "outputs": [],
   "source": [
    "#3.3, Artifact Removal: ICA\n",
    "ica, rawfltrd_ica = ica2(rawfltrd)"
   ]
  },
  {
   "cell_type": "code",
   "execution_count": null,
   "metadata": {},
   "outputs": [],
   "source": [
    "ica.exclude"
   ]
  },
  {
   "cell_type": "code",
   "execution_count": null,
   "metadata": {},
   "outputs": [],
   "source": [
    "## Analysis after ICA\n",
    "# ica.plot_components();\n",
    "# ica.plot_sources(rawfltrd_ica);\n",
    "# ica.plot_overlay(rawfltrd_ica, exclude = ica.exclude);\n",
    "ica.plot_properties(rawfltrd_ica);\n",
    "# ica.plot_scores(ex_scores);"
   ]
  },
  {
   "cell_type": "code",
   "execution_count": null,
   "metadata": {},
   "outputs": [],
   "source": [
    " # ica.exclude = [0,1,2,3] # manually exclude ICA components based on observation on plots above\n",
    "rawfltrd_ica = ica.apply(rawfltrd_ica) # Reconstructed sensor data (In Senso space)\n",
    "rawfltrd_ica.plot(scalings=scale, clipping='transparent', title='ICA  on RAW', proj= False); # , order=pick_ch_idx\n",
    "# rawfltrd.plot(scalings=scale, clipping='transparent', title='Raw Filtered- w Projection', proj=True); #, order=pick_ch_idx\n",
    "rawfltrd.plot(scalings=scale, clipping='transparent', title='Raw Filtered- wo Projection', proj=False);# , order=pick_ch_idx"
   ]
  },
  {
   "cell_type": "code",
   "execution_count": null,
   "metadata": {},
   "outputs": [],
   "source": [
    "## Compare ICA vs SSP\n",
    "# Comparison using data\n",
    "rawfltrd_df = rawfltrd.to_data_frame(index=['time'])\n",
    "rawfltrd_proj_df = rawfltrd_proj.to_data_frame(index=['time'])\n",
    "rawfltrd_ica_df = rawfltrd_ica.to_data_frame(index=['time'])\n",
    "rawfltrd_ica_df.compare(rawfltrd_proj_df, align_axis=0)"
   ]
  },
  {
   "cell_type": "code",
   "execution_count": null,
   "metadata": {},
   "outputs": [],
   "source": [
    "# comparison using plots\n",
    "dummy = rawfltrd.copy()\n",
    "data1 = rawfltrd.get_data()\n",
    "data2 = rawfltrd_ica.get_data()\n",
    "data3 = rawfltrd_proj.get_data()\n",
    "dummy._data = data3 - data2\n",
    "dummy.plot(clipping='transparent', title='DIfference between ICA and SSP', proj=False);"
   ]
  },
  {
   "cell_type": "markdown",
   "metadata": {},
   "source": [
    "### Create Epcohs from events"
   ]
  },
  {
   "cell_type": "code",
   "execution_count": null,
   "metadata": {},
   "outputs": [],
   "source": [
    "## TODO: Choose between rawfltrd/ rawfltrd_proj/ rawfltrd_ica\n",
    "# Capture events from annotations\n",
    "event_data = mne.events_from_annotations(rawfltrd_proj)\n",
    "event_marker, event_ids = event_data\n",
    "# event_ids = dict({'base':0, 'left':1, 'right':2}) # Replacing the existing event ids"
   ]
  },
  {
   "cell_type": "code",
   "execution_count": null,
   "metadata": {},
   "outputs": [],
   "source": [
    "# epochs1 = mne.Epochs(rawfltrd, events= event_marker, event_id= event_ids, baseline = (0,0))\n",
    "epochs = mne.Epochs(raw, events= event_marker, event_id= event_ids, verbose= False, proj= True, reject = None) # Baseline is default (None,0)\n",
    "# epochs.equalize_event_counts() # Shape = epochs x chan x timepnts\n",
    "\n",
    "# Evoked data\n",
    "T0 = epochs['T0'].average() # Shape = chan x timepnts\n",
    "T1 = epochs['T1'].average()\n",
    "T2 = epochs['T2'].average()"
   ]
  },
  {
   "cell_type": "code",
   "execution_count": null,
   "metadata": {},
   "outputs": [],
   "source": [
    "epochs['T2'].get_data().shape"
   ]
  },
  {
   "cell_type": "code",
   "execution_count": null,
   "metadata": {},
   "outputs": [],
   "source": [
    "(list(epochs['T0'].iter_evoked()))"
   ]
  },
  {
   "cell_type": "code",
   "execution_count": null,
   "metadata": {},
   "outputs": [],
   "source": [
    "## Task  Analysis\n",
    "task = T1\n",
    "title = str(task)[11:11+2]\n",
    "# task.plot_topomap();\n",
    "# task.plot_white(); # Noise cov required\n",
    "# task.plot_field(); # requires  surf maps\n",
    "# task.plot_sensors();\n",
    "task.plot_topo();\n",
    "task.plot_joint(times=[0.0, 0.2, 0.3],picks=['C4','C2','C6','C1','C3','C5']);\n",
    "task.plot_image(titles=f'{title} Image');\n",
    "# task.plot(proj= True, titles = '{task} - Projs - True',spatial_colors=True);\n",
    "# task.plot(proj= False, titles = '{task} -  Projs - False',spatial_colors=True);\n",
    "# task.plot(proj= 'reconstruct', titles = '{task} -  Projs - reconstruct',spatial_colors=True);\n",
    "# task.plot_topomap();\n",
    "# task.plot(gfp= \"only\"); # population standard deviation of the signal across channels\n",
    "## Compare regions\n",
    "# mne.channels.combine_channels({task}, roi_dict, method='mean')\n",
    "## Compare conditions\n",
    "# evoked = dict(T1 = list(epochs[title].iter_evoked()), T2 = list(epochs['T2'].iter_evoked()), T0=list(epochs['T0'].iter_evoked()))\n",
    "# mne.viz.plot_compare_evokeds(evoked, combine='mean');\n",
    "# task_t0 = mne.combine_evoked([task, T0], weights=[1,-1])\n",
    "# task_t0.plot_joint();"
   ]
  },
  {
   "cell_type": "code",
   "execution_count": null,
   "metadata": {},
   "outputs": [],
   "source": [
    "rawfltrd_ica.ch_names[5]"
   ]
  },
  {
   "cell_type": "code",
   "execution_count": null,
   "metadata": {},
   "outputs": [],
   "source": [
    "# epochs.to_data_frame(index=['condition', 'epoch'],long_format=True)\n",
    "epochs.plot();\n",
    "# epochs.plot_drop_log();"
   ]
  },
  {
   "cell_type": "code",
   "execution_count": null,
   "metadata": {},
   "outputs": [],
   "source": [
    "# Amplitudes and latency measures\n",
    "channel, latency, amplitude = T1.get_peak(mode='pos', return_amplitude=True)\n",
    "print(channel, latency, amplitude)"
   ]
  },
  {
   "cell_type": "code",
   "execution_count": null,
   "metadata": {},
   "outputs": [],
   "source": [
    "## Data whitening\n",
    "noise_cov = mne.compute_covariance(epochs, tmax=0., method='shrunk', rank=None,\n",
    "                                   verbose='error')\n",
    "T1.plot_white(noise_cov=noise_cov); # step of scaling the whitened plots to show how well the assumption of Gaussian noise is satisfied by the data\n",
    " "
   ]
  }
 ],
 "metadata": {
  "interpreter": {
   "hash": "31f2aee4e71d21fbe5cf8b01ff0e069b9275f58929596ceb00d14d90e3e16cd6"
  },
  "kernelspec": {
   "display_name": "Python 3.8.10 64-bit",
   "language": "python",
   "name": "python3"
  },
  "language_info": {
   "codemirror_mode": {
    "name": "ipython",
    "version": 3
   },
   "file_extension": ".py",
   "mimetype": "text/x-python",
   "name": "python",
   "nbconvert_exporter": "python",
   "pygments_lexer": "ipython3",
   "version": "3.8.10"
  },
  "orig_nbformat": 4
 },
 "nbformat": 4,
 "nbformat_minor": 2
}
